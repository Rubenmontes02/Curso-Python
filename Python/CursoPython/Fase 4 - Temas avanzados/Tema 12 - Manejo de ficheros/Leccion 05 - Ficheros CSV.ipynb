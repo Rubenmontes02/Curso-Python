{
 "cells": [
  {
   "cell_type": "code",
   "execution_count": 1,
   "id": "a9e15b3f",
   "metadata": {},
   "outputs": [],
   "source": [
    "import csv"
   ]
  },
  {
   "cell_type": "code",
   "execution_count": 2,
   "id": "3f2e464e",
   "metadata": {},
   "outputs": [],
   "source": [
    "contactos = [\n",
    "    (\"Manuel\", \"Desarrollador Web\", \"manuel@ejemplo.com\"),\n",
    "    (\"Lorena\", \"Gestora de proyectos\", \"lorena@ejemplo.com\"),\n",
    "    (\"Javier\", \"Analista de datos\", \"javier@ejemplo.com\"),\n",
    "    (\"Marta\", \"Experta en Python\", \"marta@ejemplo.com\")\n",
    "]"
   ]
  },
  {
   "cell_type": "code",
   "execution_count": 6,
   "id": "cfaabac2",
   "metadata": {},
   "outputs": [],
   "source": [
    "with open('contactos.csv','w',newline='\\n') as csvfile:    # Codigo para escribir CSV\n",
    "    writer = csv.writer(csvfile, delimiter = ',')\n",
    "    for contacto in contactos:\n",
    "        writer.writerow(contacto)"
   ]
  },
  {
   "cell_type": "code",
   "execution_count": 13,
   "id": "83d4534a",
   "metadata": {},
   "outputs": [
    {
     "name": "stdout",
     "output_type": "stream",
     "text": [
      "\n",
      "Nombre: Manuel   Empleo: Desarrollador Web    Email: manuel@ejemplo.com\n",
      "\n",
      "Nombre: Lorena   Empleo: Gestora de proyectos    Email: lorena@ejemplo.com\n",
      "\n",
      "Nombre: Javier   Empleo: Analista de datos    Email: javier@ejemplo.com\n",
      "\n",
      "Nombre: Marta   Empleo: Experta en Python    Email: marta@ejemplo.com\n"
     ]
    }
   ],
   "source": [
    "with open('contactos.csv',newline='\\n') as csvfile:       # Codigo para leer un CSV\n",
    "    reader = csv.reader(csvfile, delimiter=',')\n",
    "    for nombre, empleo, email in reader:\n",
    "        print(\"\"\"\n",
    "Nombre: {}   Empleo: {}    Email: {}\"\"\".format(nombre,empleo,email))"
   ]
  },
  {
   "cell_type": "code",
   "execution_count": 14,
   "id": "52204e0d",
   "metadata": {},
   "outputs": [],
   "source": [
    "contactos = [\n",
    "    (\"Manuel\", \"Desarrollador Web\", \"manuel@ejemplo.com\"),\n",
    "    (\"Lorena\", \"Gestora de proyectos\", \"lorena@ejemplo.com\"),\n",
    "    (\"Javier\", \"Analista de datos\", \"javier@ejemplo.com\"),\n",
    "    (\"Marta\", \"Experta en Python\", \"marta@ejemplo.com\")\n",
    "]"
   ]
  },
  {
   "cell_type": "code",
   "execution_count": 17,
   "id": "1fbbee13",
   "metadata": {},
   "outputs": [],
   "source": [
    "with open('contactos.csv','w',newline='\\n') as csvfile:         # Guardamos con un diccionario  (permite guardar el nombre de los campos)\n",
    "    campos = ['Nombre', 'Empleo', 'Email']\n",
    "    writer = csv.DictWriter(csvfile, fieldnames=campos)\n",
    "    writer.writeheader()\n",
    "    for nombre, empleo, email in contactos:\n",
    "        writer.writerow({\n",
    "            'Nombre': nombre, 'Empleo':empleo, 'Email':email\n",
    "        })"
   ]
  },
  {
   "cell_type": "code",
   "execution_count": 20,
   "id": "399ec1f3",
   "metadata": {},
   "outputs": [
    {
     "name": "stdout",
     "output_type": "stream",
     "text": [
      "Nombre: Manuel  Empleo: Desarrollador Web  Email:manuel@ejemplo.com\n",
      "Nombre: Lorena  Empleo: Gestora de proyectos  Email:lorena@ejemplo.com\n",
      "Nombre: Javier  Empleo: Analista de datos  Email:javier@ejemplo.com\n",
      "Nombre: Marta  Empleo: Experta en Python  Email:marta@ejemplo.com\n"
     ]
    }
   ],
   "source": [
    "with open('contactos.csv',newline='\\n') as csvfile:       # Codigo para leer un CSV\n",
    "    reader = csv.DictReader(csvfile)\n",
    "    for contacto in reader:\n",
    "        print('Nombre: {}  Empleo: {}  Email:{}'.format(contacto['Nombre'], contacto['Empleo'], contacto['Email']))"
   ]
  },
  {
   "cell_type": "code",
   "execution_count": null,
   "id": "b3bc2ba8",
   "metadata": {},
   "outputs": [],
   "source": []
  }
 ],
 "metadata": {
  "kernelspec": {
   "display_name": "Python 3 (ipykernel)",
   "language": "python",
   "name": "python3"
  },
  "language_info": {
   "codemirror_mode": {
    "name": "ipython",
    "version": 3
   },
   "file_extension": ".py",
   "mimetype": "text/x-python",
   "name": "python",
   "nbconvert_exporter": "python",
   "pygments_lexer": "ipython3",
   "version": "3.10.7"
  }
 },
 "nbformat": 4,
 "nbformat_minor": 5
}
