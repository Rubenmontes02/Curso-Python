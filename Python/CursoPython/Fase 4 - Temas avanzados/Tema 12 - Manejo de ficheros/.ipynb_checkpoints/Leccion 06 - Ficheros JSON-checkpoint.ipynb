{
 "cells": [
  {
   "cell_type": "code",
   "execution_count": 5,
   "id": "ee3da86f",
   "metadata": {},
   "outputs": [],
   "source": [
    "import json\n",
    "\n",
    "contactos = [\n",
    "    (\"Manuel\", \"Desarrollador Web\", \"manuel@ejemplo.com\"),\n",
    "    (\"Lorena\", \"Gestora de proyectos\", \"lorena@ejemplo.com\"),\n",
    "    (\"Javier\", \"Analista de datos\", \"javier@ejemplo.com\"),\n",
    "    (\"Marta\", \"Experta en Python\", \"marta@ejemplo.com\")\n",
    "]\n",
    "\n",
    "\n",
    "datos = []\n",
    "\n",
    "for nombre, empleo, email in contactos:\n",
    "    datos.append({'nombre':nombre, 'empleo':empleo, 'email':email})"
   ]
  },
  {
   "cell_type": "code",
   "execution_count": 7,
   "id": "01f19ce1",
   "metadata": {},
   "outputs": [],
   "source": [
    "with open('contactos.json', 'w') as jsonfile:    # Guardamos los datos en un json\n",
    "    json.dump(datos, jsonfile)"
   ]
  },
  {
   "cell_type": "code",
   "execution_count": 8,
   "id": "36318b8e",
   "metadata": {},
   "outputs": [],
   "source": [
    "datos = None"
   ]
  },
  {
   "cell_type": "code",
   "execution_count": 10,
   "id": "cd20871e",
   "metadata": {},
   "outputs": [
    {
     "name": "stdout",
     "output_type": "stream",
     "text": [
      "Nombre: Manuel  Empleo: Desarrollador Web  Email:manuel@ejemplo.com\n",
      "Nombre: Lorena  Empleo: Gestora de proyectos  Email:lorena@ejemplo.com\n",
      "Nombre: Javier  Empleo: Analista de datos  Email:javier@ejemplo.com\n",
      "Nombre: Marta  Empleo: Experta en Python  Email:marta@ejemplo.com\n"
     ]
    }
   ],
   "source": [
    "with open('contactos.json') as jsonfile:      # Leemos los datos de un json\n",
    "    datos = json.load(jsonfile)\n",
    "    for contacto in datos:\n",
    "        print('Nombre: {}  Empleo: {}  Email:{}'.format(contacto['nombre'], contacto['empleo'], contacto['email']))"
   ]
  },
  {
   "cell_type": "code",
   "execution_count": null,
   "id": "eadf39bd",
   "metadata": {},
   "outputs": [],
   "source": []
  }
 ],
 "metadata": {
  "kernelspec": {
   "display_name": "Python 3 (ipykernel)",
   "language": "python",
   "name": "python3"
  },
  "language_info": {
   "codemirror_mode": {
    "name": "ipython",
    "version": 3
   },
   "file_extension": ".py",
   "mimetype": "text/x-python",
   "name": "python",
   "nbconvert_exporter": "python",
   "pygments_lexer": "ipython3",
   "version": "3.10.7"
  }
 },
 "nbformat": 4,
 "nbformat_minor": 5
}
