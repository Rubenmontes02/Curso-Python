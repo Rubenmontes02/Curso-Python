{
 "cells": [
  {
   "cell_type": "code",
   "execution_count": 1,
   "metadata": {},
   "outputs": [
    {
     "name": "stdout",
     "output_type": "stream",
     "text": [
      "c vale 1\n",
      "c vale 2\n",
      "c vale 3\n",
      "c vale 4\n",
      "c vale 5\n"
     ]
    }
   ],
   "source": [
    "c = 0\n",
    "while c < 5:\n",
    "    c+=1\n",
    "    print(\"c vale\",c)"
   ]
  },
  {
   "cell_type": "code",
   "execution_count": 2,
   "metadata": {},
   "outputs": [
    {
     "name": "stdout",
     "output_type": "stream",
     "text": [
      "c vale 1\n",
      "c vale 2\n",
      "c vale 3\n",
      "c vale 4\n",
      "c vale 5\n",
      "Se ha completado toda la iteracion y c vale 5\n"
     ]
    }
   ],
   "source": [
    "c = 0\n",
    "while c < 5:\n",
    "    c+=1\n",
    "    print(\"c vale\",c)\n",
    "else:\n",
    "    print(\"Se ha completado toda la iteracion y c vale\",c)"
   ]
  },
  {
   "cell_type": "code",
   "execution_count": 4,
   "metadata": {},
   "outputs": [
    {
     "name": "stdout",
     "output_type": "stream",
     "text": [
      "c vale 1\n",
      "c vale 2\n",
      "c vale 3\n",
      "Rompemos el bucle cuando c vale 4\n"
     ]
    }
   ],
   "source": [
    "c = 0\n",
    "while c < 5:\n",
    "    c+=1\n",
    "    if (c==4):\n",
    "        print(\"Rompemos el bucle cuando c vale\",c)\n",
    "        break\n",
    "    print(\"c vale\",c)\n",
    "else:\n",
    "    print(\"Se ha completado toda la iteracion y c vale\",c)"
   ]
  },
  {
   "cell_type": "code",
   "execution_count": 5,
   "metadata": {
    "scrolled": false
   },
   "outputs": [
    {
     "name": "stdout",
     "output_type": "stream",
     "text": [
      "c vale 1\n",
      "c vale 2\n",
      "c vale 3\n",
      "Continuamos con la siguiente iteracion 4\n",
      "c vale 5\n",
      "Se ha completado toda la iteracion y c vale 5\n"
     ]
    }
   ],
   "source": [
    "c = 0\n",
    "while c < 5:\n",
    "    c+=1\n",
    "    if (c==4):\n",
    "        print(\"Continuamos con la siguiente iteracion\",c)\n",
    "        continue\n",
    "    print(\"c vale\",c)\n",
    "else:\n",
    "    print(\"Se ha completado toda la iteracion y c vale\",c)"
   ]
  },
  {
   "cell_type": "code",
   "execution_count": 11,
   "metadata": {},
   "outputs": [
    {
     "name": "stdout",
     "output_type": "stream",
     "text": [
      "Bienvenido al menu interactivo\n",
      "¿Qué quieres hacer?\n",
      "    1. Saludar\n",
      "    2. Sumar 2 números\n",
      "    3. Salir\n",
      "2\n",
      "Escribe el primer numero 213\n",
      "Escribe el segundo numero 123\n",
      "El resultado de la suma es 336.0\n",
      "¿Qué quieres hacer?\n",
      "    1. Saludar\n",
      "    2. Sumar 2 números\n",
      "    3. Salir\n",
      "3\n",
      "Nos vemos mi rey\n"
     ]
    }
   ],
   "source": [
    "print(\"Bienvenido al menu interactivo\")\n",
    "\n",
    "while(True):\n",
    "    print(\"\"\"¿Qué quieres hacer?\n",
    "    1. Saludar\n",
    "    2. Sumar 2 números\n",
    "    3. Salir\"\"\")\n",
    "    opcion = int(input())\n",
    "    if opcion == 1:\n",
    "        print(\"\"\"\n",
    "        Hola, espero que te lo pases bien\n",
    "        \"\"\")\n",
    "    elif opcion == 2:\n",
    "        n1 = float(input(\"Escribe el primer numero \"))\n",
    "        n2 = float(input(\"Escribe el segundo numero \"))\n",
    "        print(\"El resultado de la suma es\", n1+n2)\n",
    "    elif opcion == 3:\n",
    "        print(\"Nos vemos mi rey\")\n",
    "        break\n",
    "    else:\n",
    "        print(\"No se reconoce esa opcion\")"
   ]
  },
  {
   "cell_type": "code",
   "execution_count": null,
   "metadata": {},
   "outputs": [],
   "source": []
  },
  {
   "cell_type": "code",
   "execution_count": null,
   "metadata": {},
   "outputs": [],
   "source": []
  }
 ],
 "metadata": {
  "kernelspec": {
   "display_name": "Python 3 (ipykernel)",
   "language": "python",
   "name": "python3"
  },
  "language_info": {
   "codemirror_mode": {
    "name": "ipython",
    "version": 3
   },
   "file_extension": ".py",
   "mimetype": "text/x-python",
   "name": "python",
   "nbconvert_exporter": "python",
   "pygments_lexer": "ipython3",
   "version": "3.10.7"
  }
 },
 "nbformat": 4,
 "nbformat_minor": 1
}
