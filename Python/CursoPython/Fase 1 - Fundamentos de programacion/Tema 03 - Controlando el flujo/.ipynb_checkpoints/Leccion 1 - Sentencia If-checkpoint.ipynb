{
 "cells": [
  {
   "cell_type": "code",
   "execution_count": 6,
   "metadata": {},
   "outputs": [
    {
     "name": "stdout",
     "output_type": "stream",
     "text": [
      "Se cumple la condicion\n",
      "Se muestra este print\n"
     ]
    }
   ],
   "source": [
    "if True: \n",
    "    print(\"Se cumple la condicion\")\n",
    "    print(\"Se muestra este print\")"
   ]
  },
  {
   "cell_type": "code",
   "execution_count": 7,
   "metadata": {},
   "outputs": [
    {
     "name": "stdout",
     "output_type": "stream",
     "text": [
      "a vale 5\n"
     ]
    }
   ],
   "source": [
    "a = 5 \n",
    "if (a == 2):\n",
    "    print(\"a vale 2\")\n",
    "if (a == 5):\n",
    "    print(\"a vale 5\")"
   ]
  },
  {
   "cell_type": "code",
   "execution_count": 11,
   "metadata": {},
   "outputs": [
    {
     "name": "stdout",
     "output_type": "stream",
     "text": [
      "a vale 5\n",
      "b vale 10\n"
     ]
    }
   ],
   "source": [
    "a=5\n",
    "b=10\n",
    "if (a==5):\n",
    "    print (\"a vale\",a)\n",
    "    if (b==10):\n",
    "        print(\"b vale\",b)"
   ]
  },
  {
   "cell_type": "code",
   "execution_count": 12,
   "metadata": {},
   "outputs": [
    {
     "name": "stdout",
     "output_type": "stream",
     "text": [
      "a vale 5 y b vale 10\n"
     ]
    }
   ],
   "source": [
    "if (a==5 and b==10):\n",
    "    print(\"a vale\",5,\"y b vale\",b)"
   ]
  },
  {
   "cell_type": "code",
   "execution_count": 15,
   "metadata": {},
   "outputs": [
    {
     "name": "stdout",
     "output_type": "stream",
     "text": [
      "10 es un número par\n"
     ]
    }
   ],
   "source": [
    "n=10\n",
    "if n%2 == 0:\n",
    "    print(n,\"es un número par\")\n",
    "else:\n",
    "        print(n,\"es un número impar\")"
   ]
  },
  {
   "cell_type": "code",
   "execution_count": 22,
   "metadata": {},
   "outputs": [
    {
     "name": "stdout",
     "output_type": "stream",
     "text": [
      "Saliendo...\n"
     ]
    }
   ],
   "source": [
    "comando=\"Salir\"\n",
    "\n",
    "if(comando == \"Entrar\"):\n",
    "    print(\"Entrando...\")\n",
    "elif comando == \"Saludar\":\n",
    "    print(\"Hola\")\n",
    "elif comando == \"Salir\":\n",
    "    print(\"Saliendo...\")\n",
    "else:\n",
    "    print(\"Comando no reconocido\")"
   ]
  },
  {
   "cell_type": "code",
   "execution_count": 25,
   "metadata": {},
   "outputs": [
    {
     "name": "stdout",
     "output_type": "stream",
     "text": [
      "Introduce la nota del alumno6\n",
      "La nota es un bien\n"
     ]
    }
   ],
   "source": [
    "nota = float(input(\"Introduce la nota del alumno\"))\n",
    "\n",
    "if nota >= 9:\n",
    "    print(\"La nota es un sobresaliente\")\n",
    "elif nota >=7:\n",
    "    print(\"La nota es un notable\")\n",
    "elif nota >=6:\n",
    "    print(\"La nota es un bien\")\n",
    "elif nota >=5:\n",
    "    print(\"La nota es un suficiente\")\n",
    "else:\n",
    "    print(\"La nota es un insuficiente\")"
   ]
  },
  {
   "cell_type": "code",
   "execution_count": 26,
   "metadata": {},
   "outputs": [],
   "source": [
    "if True:\n",
    "    pass"
   ]
  },
  {
   "cell_type": "code",
   "execution_count": null,
   "metadata": {},
   "outputs": [],
   "source": [
    "input = input(\"Introduce la nota del alumno: \")\n",
    "nota = str(input)\n",
    "\n",
    "if (nota < 5.0):\n",
    "    print (\"El alumno ha sacado un \", nota, \", ha suspendido\")\n",
    "\n",
    "elif (nota <6.0):\n",
    "    print (\"El alumno ha sacado un \", nota, \" ha sacado un suficiente\")\n",
    "\n",
    "elif (nota < 7.0):\n",
    "    print (\"El alumno ha sacado un \", nota, \" ha sacado un bien\")\n",
    "    \n",
    "elif (nota <=8.0):\n",
    "    print (\"El alumno ha sacado un \", nota, \" ha sacado un notable\")\n",
    "    \n",
    "else:\n",
    "    print (\"El alumno ha sacado un \", nota, \" ha sacado un sobresaliente\")"
   ]
  },
  {
   "cell_type": "code",
   "execution_count": null,
   "metadata": {},
   "outputs": [],
   "source": []
  }
 ],
 "metadata": {
  "kernelspec": {
   "display_name": "Python 3 (ipykernel)",
   "language": "python",
   "name": "python3"
  },
  "language_info": {
   "codemirror_mode": {
    "name": "ipython",
    "version": 3
   },
   "file_extension": ".py",
   "mimetype": "text/x-python",
   "name": "python",
   "nbconvert_exporter": "python",
   "pygments_lexer": "ipython3",
   "version": "3.10.7"
  }
 },
 "nbformat": 4,
 "nbformat_minor": 1
}
