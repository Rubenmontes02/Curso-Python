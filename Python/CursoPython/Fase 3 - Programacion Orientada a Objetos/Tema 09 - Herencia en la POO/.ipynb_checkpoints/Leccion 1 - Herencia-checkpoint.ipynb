{
 "cells": [
  {
   "cell_type": "code",
   "execution_count": 12,
   "metadata": {},
   "outputs": [
    {
     "name": "stdout",
     "output_type": "stream",
     "text": [
      "Referencia ->\t2034\n",
      "Nombre ->\tVaso adornado\n",
      "PVP ->\t\t15\n",
      "Descripción ->\tVaso adornado con dibujos\n"
     ]
    }
   ],
   "source": [
    "class Producto():\n",
    "    \n",
    "    def __init__(self, referencia, nombre, pvp, descripcion):\n",
    "        \n",
    "        self.referencia = referencia\n",
    "        self.nombre = nombre\n",
    "        self.pvp = pvp\n",
    "        self.descripcion = descripcion\n",
    "    \n",
    "    def __str__(self):\n",
    "        return \"\"\"\\\n",
    "Referencia ->\\t{}\n",
    "Nombre ->\\t{}\n",
    "PVP ->\\t\\t{}\n",
    "Descripción ->\\t{}\"\"\".format(self.referencia,self.nombre, self.pvp, self.descripcion)\n",
    "                 \n",
    "                 \n",
    "\n",
    "class Adorno(Producto):\n",
    "    \n",
    "    pass\n",
    "                 \n",
    "\n",
    "a = Adorno(2034, 'Vaso adornado', 15, 'Vaso adornado con dibujos')\n",
    "\n",
    "print(a)"
   ]
  },
  {
   "cell_type": "code",
   "execution_count": 21,
   "metadata": {},
   "outputs": [
    {
     "name": "stdout",
     "output_type": "stream",
     "text": [
      "Referencia ->\t2035\n",
      "Nombre ->\tAceite Oliva\n",
      "PVP ->\t\t5\n",
      "Descripción ->\t250 ml\n",
      "Productor ->\tLa aceitera\n",
      "Distribuidor ->\tDistribuciones SA\n"
     ]
    }
   ],
   "source": [
    "class Alimento(Producto):\n",
    "    productor = \"\"\n",
    "    distribuidor = \"\"\n",
    "    \n",
    "    def __str__(self):\n",
    "        return \"\"\"\\\n",
    "Referencia:\\t{}\n",
    "Nombre:\\t{}\n",
    "PVP:\\t\\t{}\n",
    "Descripción:\\t{}\n",
    "Productor:\\t{}\n",
    "Distribuidor:\\t{}\"\"\".format(self.referencia,self.nombre, self.pvp, self.descripcion, self.productor, self.distribuidor)\n",
    "                 \n",
    "    \n",
    "al = Alimento(2035, 'Aceite Oliva', 5, '250 ml')\n",
    "\n",
    "al.productor = 'La aceitera'\n",
    "al.distribuidor = 'Distribuciones SA'\n",
    "\n",
    "print(al)"
   ]
  },
  {
   "cell_type": "code",
   "execution_count": 26,
   "metadata": {},
   "outputs": [
    {
     "name": "stdout",
     "output_type": "stream",
     "text": [
      "Referencia:\t2036\n",
      "Nombre:\t\tCocinando con Chia\n",
      "PVP:\t\t9\n",
      "Descripción:\tRecetas Sanas\n",
      "ISBN:\t\t0123\n",
      "Autor:\t\tPaco\n"
     ]
    }
   ],
   "source": [
    "class Libro(Producto):\n",
    "    isbn = ''\n",
    "    autor = ''\n",
    "    \n",
    "    def __str__(self):\n",
    "        return \"\"\"\\\n",
    "Referencia:\\t{}\n",
    "Nombre:\\t\\t{}\n",
    "PVP:\\t\\t{}\n",
    "Descripción:\\t{}\n",
    "ISBN:\\t\\t{}\n",
    "Autor:\\t\\t{}\"\"\".format(self.referencia,self.nombre, self.pvp, self.descripcion, self.isbn, self.autor)\n",
    "      \n",
    "        \n",
    "li = Libro(2036, 'Cocinando con Chia', 9, 'Recetas Sanas')\n",
    "li.isbn = '0123'\n",
    "li.autor = 'Paco'\n",
    "\n",
    "print(li)\n",
    "    "
   ]
  },
  {
   "cell_type": "code",
   "execution_count": null,
   "metadata": {},
   "outputs": [],
   "source": []
  }
 ],
 "metadata": {
  "kernelspec": {
   "display_name": "Python 3 (ipykernel)",
   "language": "python",
   "name": "python3"
  },
  "language_info": {
   "codemirror_mode": {
    "name": "ipython",
    "version": 3
   },
   "file_extension": ".py",
   "mimetype": "text/x-python",
   "name": "python",
   "nbconvert_exporter": "python",
   "pygments_lexer": "ipython3",
   "version": "3.10.7"
  }
 },
 "nbformat": 4,
 "nbformat_minor": 1
}
