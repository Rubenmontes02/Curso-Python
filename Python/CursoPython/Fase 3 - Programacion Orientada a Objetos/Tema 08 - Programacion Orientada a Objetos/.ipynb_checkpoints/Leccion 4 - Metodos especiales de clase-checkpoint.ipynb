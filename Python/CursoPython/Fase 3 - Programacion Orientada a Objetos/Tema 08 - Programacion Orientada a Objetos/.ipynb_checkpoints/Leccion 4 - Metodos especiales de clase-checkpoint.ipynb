{
 "cells": [
  {
   "cell_type": "code",
   "execution_count": 23,
   "metadata": {},
   "outputs": [
    {
     "name": "stdout",
     "output_type": "stream",
     "text": [
      "Se ha añadido la pelicula:  The Fallout\n",
      "Se está borrando la pelicula The Fallout\n"
     ]
    }
   ],
   "source": [
    "class Pelicula():\n",
    "    # Constructor de la clase:\n",
    "    def __init__(self, titulo, duracion, lanzamiento):\n",
    "        self.titulo = titulo\n",
    "        self.duracion = duracion\n",
    "        self.lanzamiento = lanzamiento\n",
    "        print('Se ha añadido la pelicula: ',self.titulo)\n",
    "        \n",
    "    # Destructor de clase:\n",
    "    \n",
    "    def __del__(self):\n",
    "        print('Se está borrando la pelicula', self.titulo)\n",
    "        \n",
    "    # Redefinimos el metido string\n",
    "    \n",
    "    def __str__(self):\n",
    "        return '{} tiene una duracion de {} minutos, y fue lanzada en {}'.format(self.titulo,self.duracion,self.lanzamiento)\n",
    "        \n",
    "    \n",
    "    # Redefinimos el metodo lenght\n",
    "    \n",
    "    def __len__(self):\n",
    "        return self.duracion\n",
    "    \n",
    "    \n",
    "    \n",
    "    \n",
    "p1 = Pelicula('The Fallout', 92, 2021)\n"
   ]
  },
  {
   "cell_type": "code",
   "execution_count": 7,
   "metadata": {},
   "outputs": [
    {
     "data": {
      "text/plain": [
       "'10'"
      ]
     },
     "execution_count": 7,
     "metadata": {},
     "output_type": "execute_result"
    }
   ],
   "source": [
    "str(10)"
   ]
  },
  {
   "cell_type": "code",
   "execution_count": 15,
   "metadata": {},
   "outputs": [
    {
     "data": {
      "text/plain": [
       "'The Fallout tiene una duracion de 92 minutos, y fue lanzada en 2021'"
      ]
     },
     "execution_count": 15,
     "metadata": {},
     "output_type": "execute_result"
    }
   ],
   "source": [
    "str(p1)"
   ]
  },
  {
   "cell_type": "code",
   "execution_count": 24,
   "metadata": {},
   "outputs": [
    {
     "data": {
      "text/plain": [
       "92"
      ]
     },
     "execution_count": 24,
     "metadata": {},
     "output_type": "execute_result"
    }
   ],
   "source": [
    "len(p1)"
   ]
  },
  {
   "cell_type": "code",
   "execution_count": null,
   "metadata": {},
   "outputs": [],
   "source": []
  }
 ],
 "metadata": {
  "kernelspec": {
   "display_name": "Python 3 (ipykernel)",
   "language": "python",
   "name": "python3"
  },
  "language_info": {
   "codemirror_mode": {
    "name": "ipython",
    "version": 3
   },
   "file_extension": ".py",
   "mimetype": "text/x-python",
   "name": "python",
   "nbconvert_exporter": "python",
   "pygments_lexer": "ipython3",
   "version": "3.10.7"
  }
 },
 "nbformat": 4,
 "nbformat_minor": 1
}
