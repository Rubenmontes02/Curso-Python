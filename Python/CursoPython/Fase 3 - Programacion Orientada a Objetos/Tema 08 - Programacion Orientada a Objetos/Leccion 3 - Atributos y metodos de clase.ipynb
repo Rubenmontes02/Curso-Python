{
 "cells": [
  {
   "cell_type": "code",
   "execution_count": 1,
   "metadata": {},
   "outputs": [],
   "source": [
    "class Galleta:\n",
    "    pass\n",
    "\n",
    "una_galleta = Galleta()"
   ]
  },
  {
   "cell_type": "code",
   "execution_count": 2,
   "metadata": {},
   "outputs": [],
   "source": [
    "una_galleta.sabor = 'Salado'"
   ]
  },
  {
   "cell_type": "code",
   "execution_count": 3,
   "metadata": {},
   "outputs": [],
   "source": [
    "una_galleta.color = 'Marrón'"
   ]
  },
  {
   "cell_type": "code",
   "execution_count": 4,
   "metadata": {},
   "outputs": [
    {
     "name": "stdout",
     "output_type": "stream",
     "text": [
      "El sabor de la galleta es  Salado\n"
     ]
    }
   ],
   "source": [
    "print('El sabor de la galleta es ',una_galleta.sabor)"
   ]
  },
  {
   "cell_type": "code",
   "execution_count": 7,
   "metadata": {},
   "outputs": [],
   "source": [
    "class Galleta:\n",
    "    chocolate = False\n",
    "\n",
    "una_galleta = Galleta()\n"
   ]
  },
  {
   "cell_type": "code",
   "execution_count": 9,
   "metadata": {},
   "outputs": [
    {
     "data": {
      "text/plain": [
       "False"
      ]
     },
     "execution_count": 9,
     "metadata": {},
     "output_type": "execute_result"
    }
   ],
   "source": [
    "g = Galleta()\n",
    "g.chocolate"
   ]
  },
  {
   "cell_type": "code",
   "execution_count": 10,
   "metadata": {},
   "outputs": [],
   "source": [
    "g.chocolate = True"
   ]
  },
  {
   "cell_type": "code",
   "execution_count": 11,
   "metadata": {},
   "outputs": [
    {
     "data": {
      "text/plain": [
       "True"
      ]
     },
     "execution_count": 11,
     "metadata": {},
     "output_type": "execute_result"
    }
   ],
   "source": [
    "g.chocolate"
   ]
  },
  {
   "cell_type": "code",
   "execution_count": 1,
   "metadata": {},
   "outputs": [],
   "source": [
    "class Galleta:\n",
    "    chocolate = False\n",
    "    def __init__(self):\n",
    "        print('Se ha creado una galleta')\n",
    "    \n",
    "    \n",
    "una_galleta = Galleta()"
   ]
  },
  {
   "cell_type": "code",
   "execution_count": 7,
   "metadata": {},
   "outputs": [
    {
     "name": "stdout",
     "output_type": "stream",
     "text": [
      "Se ha creado una galleta\n",
      "No tengo chocolate\n",
      "Tengo chocolate\n"
     ]
    }
   ],
   "source": [
    "class Galleta:\n",
    "    chocolate = False\n",
    "    def __init__(self):\n",
    "        print('Se ha creado una galleta')\n",
    "    \n",
    "    def chocolatear(self):\n",
    "        self.chocolate = True\n",
    "        \n",
    "    def tiene_chocolate(self):\n",
    "        if (self.chocolate):\n",
    "            print('Tengo chocolate')\n",
    "        else:\n",
    "            print('No tengo chocolate')\n",
    "    \n",
    "g = Galleta()\n",
    "g.tiene_chocolate()\n",
    "g.chocolatear()\n",
    "g.tiene_chocolate()\n"
   ]
  },
  {
   "cell_type": "code",
   "execution_count": 10,
   "metadata": {},
   "outputs": [
    {
     "name": "stdout",
     "output_type": "stream",
     "text": [
      "Se ha creado una galleta salada marron\n"
     ]
    }
   ],
   "source": [
    "class Galleta:\n",
    "    chocolate = False\n",
    "    def __init__(self, sabor, color):\n",
    "        self.sabor = sabor\n",
    "        self.color = color\n",
    "        print('Se ha creado una galleta {} {}'.format(sabor, color))\n",
    "    \n",
    "    def chocolatear(self):\n",
    "        self.chocolate = True\n",
    "        \n",
    "    def tiene_chocolate(self):\n",
    "        if (self.chocolate):\n",
    "            print('Tengo chocolate')\n",
    "        else:\n",
    "            print('No tengo chocolate')\n",
    "            \n",
    "g = Galleta('salada', 'marron')"
   ]
  },
  {
   "cell_type": "code",
   "execution_count": 11,
   "metadata": {},
   "outputs": [
    {
     "ename": "TypeError",
     "evalue": "Galleta.__init__() missing 2 required positional arguments: 'sabor' and 'color'",
     "output_type": "error",
     "traceback": [
      "\u001b[1;31m---------------------------------------------------------------------------\u001b[0m",
      "\u001b[1;31mTypeError\u001b[0m                                 Traceback (most recent call last)",
      "Cell \u001b[1;32mIn [11], line 1\u001b[0m\n\u001b[1;32m----> 1\u001b[0m g \u001b[38;5;241m=\u001b[39m \u001b[43mGalleta\u001b[49m\u001b[43m(\u001b[49m\u001b[43m)\u001b[49m\n",
      "\u001b[1;31mTypeError\u001b[0m: Galleta.__init__() missing 2 required positional arguments: 'sabor' and 'color'"
     ]
    }
   ],
   "source": [
    "g = Galleta()"
   ]
  },
  {
   "cell_type": "code",
   "execution_count": 18,
   "metadata": {},
   "outputs": [
    {
     "name": "stdout",
     "output_type": "stream",
     "text": [
      "Se ha creado una galleta salada marron\n"
     ]
    }
   ],
   "source": [
    "class Galleta:\n",
    "    chocolate = False\n",
    "    def __init__(self, sabor=None, color=None):\n",
    "        self.sabor = sabor\n",
    "        self.color = color\n",
    "        if sabor is not None and color is not None:\n",
    "            print('Se ha creado una galleta {} {}'.format(sabor, color))\n",
    "        else:\n",
    "            print('Se ha creado una galleta')\n",
    "    def chocolatear(self):\n",
    "        self.chocolate = True\n",
    "        \n",
    "    def tiene_chocolate(self):\n",
    "        if (self.chocolate):\n",
    "            print('Tengo chocolate')\n",
    "        else:\n",
    "            print('No tengo chocolate')\n",
    "            \n",
    "g = Galleta('salada', 'marron')"
   ]
  },
  {
   "cell_type": "code",
   "execution_count": 19,
   "metadata": {},
   "outputs": [
    {
     "name": "stdout",
     "output_type": "stream",
     "text": [
      "Se ha creado una galleta\n"
     ]
    }
   ],
   "source": [
    "g = Galleta()"
   ]
  },
  {
   "cell_type": "code",
   "execution_count": null,
   "metadata": {},
   "outputs": [],
   "source": []
  }
 ],
 "metadata": {
  "kernelspec": {
   "display_name": "Python 3 (ipykernel)",
   "language": "python",
   "name": "python3"
  },
  "language_info": {
   "codemirror_mode": {
    "name": "ipython",
    "version": 3
   },
   "file_extension": ".py",
   "mimetype": "text/x-python",
   "name": "python",
   "nbconvert_exporter": "python",
   "pygments_lexer": "ipython3",
   "version": "3.10.7"
  }
 },
 "nbformat": 4,
 "nbformat_minor": 1
}
