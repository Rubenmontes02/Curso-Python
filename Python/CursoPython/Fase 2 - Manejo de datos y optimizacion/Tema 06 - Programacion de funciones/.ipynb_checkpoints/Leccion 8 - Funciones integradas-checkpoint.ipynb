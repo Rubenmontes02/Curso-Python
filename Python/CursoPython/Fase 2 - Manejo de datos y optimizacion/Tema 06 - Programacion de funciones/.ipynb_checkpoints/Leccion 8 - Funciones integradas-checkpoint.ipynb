{
 "cells": [
  {
   "cell_type": "code",
   "execution_count": 1,
   "metadata": {},
   "outputs": [
    {
     "data": {
      "text/plain": [
       "10"
      ]
     },
     "execution_count": 1,
     "metadata": {},
     "output_type": "execute_result"
    }
   ],
   "source": [
    "n = int('10')\n",
    "n\n"
   ]
  },
  {
   "cell_type": "code",
   "execution_count": 2,
   "metadata": {},
   "outputs": [
    {
     "data": {
      "text/plain": [
       "10.5"
      ]
     },
     "execution_count": 2,
     "metadata": {},
     "output_type": "execute_result"
    }
   ],
   "source": [
    "f = float('10.5')\n",
    "f"
   ]
  },
  {
   "cell_type": "code",
   "execution_count": 5,
   "metadata": {},
   "outputs": [
    {
     "data": {
      "text/plain": [
       "'Un texto y un numero 10 y un flotante 3.14'"
      ]
     },
     "execution_count": 5,
     "metadata": {},
     "output_type": "execute_result"
    }
   ],
   "source": [
    "c = 'Un texto y un numero ' + str(10) + ' y un flotante '+ str(3.14)\n",
    "c"
   ]
  },
  {
   "cell_type": "code",
   "execution_count": 6,
   "metadata": {},
   "outputs": [
    {
     "data": {
      "text/plain": [
       "'0b1010'"
      ]
     },
     "execution_count": 6,
     "metadata": {},
     "output_type": "execute_result"
    }
   ],
   "source": [
    "bin(10)"
   ]
  },
  {
   "cell_type": "code",
   "execution_count": 10,
   "metadata": {},
   "outputs": [
    {
     "data": {
      "text/plain": [
       "'0x540'"
      ]
     },
     "execution_count": 10,
     "metadata": {},
     "output_type": "execute_result"
    }
   ],
   "source": [
    "hex(1344)"
   ]
  },
  {
   "cell_type": "code",
   "execution_count": 11,
   "metadata": {},
   "outputs": [
    {
     "data": {
      "text/plain": [
       "10"
      ]
     },
     "execution_count": 11,
     "metadata": {},
     "output_type": "execute_result"
    }
   ],
   "source": [
    "int('0b1010', 2)"
   ]
  },
  {
   "cell_type": "code",
   "execution_count": 12,
   "metadata": {},
   "outputs": [
    {
     "data": {
      "text/plain": [
       "1344"
      ]
     },
     "execution_count": 12,
     "metadata": {},
     "output_type": "execute_result"
    }
   ],
   "source": [
    "int('0x540',16)"
   ]
  },
  {
   "cell_type": "code",
   "execution_count": 13,
   "metadata": {},
   "outputs": [
    {
     "data": {
      "text/plain": [
       "10"
      ]
     },
     "execution_count": 13,
     "metadata": {},
     "output_type": "execute_result"
    }
   ],
   "source": [
    "abs(-10) # cuenta la distancia entre el numero y el 0"
   ]
  },
  {
   "cell_type": "code",
   "execution_count": 14,
   "metadata": {},
   "outputs": [
    {
     "data": {
      "text/plain": [
       "6"
      ]
     },
     "execution_count": 14,
     "metadata": {},
     "output_type": "execute_result"
    }
   ],
   "source": [
    "round(5.5)"
   ]
  },
  {
   "cell_type": "code",
   "execution_count": 15,
   "metadata": {},
   "outputs": [
    {
     "data": {
      "text/plain": [
       "5"
      ]
     },
     "execution_count": 15,
     "metadata": {},
     "output_type": "execute_result"
    }
   ],
   "source": [
    "round(5.4)"
   ]
  },
  {
   "cell_type": "code",
   "execution_count": 16,
   "metadata": {},
   "outputs": [
    {
     "data": {
      "text/plain": [
       "9"
      ]
     },
     "execution_count": 16,
     "metadata": {},
     "output_type": "execute_result"
    }
   ],
   "source": [
    "eval('2+7')"
   ]
  },
  {
   "cell_type": "code",
   "execution_count": 17,
   "metadata": {},
   "outputs": [
    {
     "data": {
      "text/plain": [
       "95"
      ]
     },
     "execution_count": 17,
     "metadata": {},
     "output_type": "execute_result"
    }
   ],
   "source": [
    "n = 10\n",
    "eval('n*10 - 5')"
   ]
  },
  {
   "cell_type": "code",
   "execution_count": 18,
   "metadata": {},
   "outputs": [
    {
     "data": {
      "text/plain": [
       "5"
      ]
     },
     "execution_count": 18,
     "metadata": {},
     "output_type": "execute_result"
    }
   ],
   "source": [
    "l = [1,2,3,4,5]\n",
    "\n",
    "len(l)"
   ]
  },
  {
   "cell_type": "code",
   "execution_count": null,
   "metadata": {},
   "outputs": [
    {
     "name": "stdout",
     "output_type": "stream",
     "text": [
      "\n",
      "Welcome to Python 3.10's help utility!\n",
      "\n",
      "If this is your first time using Python, you should definitely check out\n",
      "the tutorial on the internet at https://docs.python.org/3.10/tutorial/.\n",
      "\n",
      "Enter the name of any module, keyword, or topic to get help on writing\n",
      "Python programs and using Python modules.  To quit this help utility and\n",
      "return to the interpreter, just type \"quit\".\n",
      "\n",
      "To get a list of available modules, keywords, symbols, or topics, type\n",
      "\"modules\", \"keywords\", \"symbols\", or \"topics\".  Each module also comes\n",
      "with a one-line summary of what it does; to list the modules whose name\n",
      "or summary contain a given string such as \"spam\", type \"modules spam\".\n",
      "\n",
      "help> topics\n",
      "\n",
      "Here is a list of available topics.  Enter any topic name to get more help.\n",
      "\n",
      "ASSERTION           DELETION            LOOPING             SHIFTING\n",
      "ASSIGNMENT          DICTIONARIES        MAPPINGMETHODS      SLICINGS\n",
      "ATTRIBUTEMETHODS    DICTIONARYLITERALS  MAPPINGS            SPECIALATTRIBUTES\n",
      "ATTRIBUTES          DYNAMICFEATURES     METHODS             SPECIALIDENTIFIERS\n",
      "AUGMENTEDASSIGNMENT ELLIPSIS            MODULES             SPECIALMETHODS\n",
      "BASICMETHODS        EXCEPTIONS          NAMESPACES          STRINGMETHODS\n",
      "BINARY              EXECUTION           NONE                STRINGS\n",
      "BITWISE             EXPRESSIONS         NUMBERMETHODS       SUBSCRIPTS\n",
      "BOOLEAN             FLOAT               NUMBERS             TRACEBACKS\n",
      "CALLABLEMETHODS     FORMATTING          OBJECTS             TRUTHVALUE\n",
      "CALLS               FRAMEOBJECTS        OPERATORS           TUPLELITERALS\n",
      "CLASSES             FRAMES              PACKAGES            TUPLES\n",
      "CODEOBJECTS         FUNCTIONS           POWER               TYPEOBJECTS\n",
      "COMPARISON          IDENTIFIERS         PRECEDENCE          TYPES\n",
      "COMPLEX             IMPORTING           PRIVATENAMES        UNARY\n",
      "CONDITIONAL         INTEGER             RETURNING           UNICODE\n",
      "CONTEXTMANAGERS     LISTLITERALS        SCOPING             \n",
      "CONVERSIONS         LISTS               SEQUENCEMETHODS     \n",
      "DEBUGGING           LITERALS            SEQUENCES           \n",
      "\n",
      "help> lists\n",
      "No Python documentation found for 'lists'.\n",
      "Use help() to get the interactive help utility.\n",
      "Use help(str) for help on the str class.\n",
      "\n",
      "help> LISTS\n",
      "Mutable Sequence Types\n",
      "**********************\n",
      "\n",
      "The operations in the following table are defined on mutable sequence\n",
      "types. The \"collections.abc.MutableSequence\" ABC is provided to make\n",
      "it easier to correctly implement these operations on custom sequence\n",
      "types.\n",
      "\n",
      "In the table *s* is an instance of a mutable sequence type, *t* is any\n",
      "iterable object and *x* is an arbitrary object that meets any type and\n",
      "value restrictions imposed by *s* (for example, \"bytearray\" only\n",
      "accepts integers that meet the value restriction \"0 <= x <= 255\").\n",
      "\n",
      "+--------------------------------+----------------------------------+-----------------------+\n",
      "| Operation                      | Result                           | Notes                 |\n",
      "|================================|==================================|=======================|\n",
      "| \"s[i] = x\"                     | item *i* of *s* is replaced by   |                       |\n",
      "|                                | *x*                              |                       |\n",
      "+--------------------------------+----------------------------------+-----------------------+\n",
      "| \"s[i:j] = t\"                   | slice of *s* from *i* to *j* is  |                       |\n",
      "|                                | replaced by the contents of the  |                       |\n",
      "|                                | iterable *t*                     |                       |\n",
      "+--------------------------------+----------------------------------+-----------------------+\n",
      "| \"del s[i:j]\"                   | same as \"s[i:j] = []\"            |                       |\n",
      "+--------------------------------+----------------------------------+-----------------------+\n",
      "| \"s[i:j:k] = t\"                 | the elements of \"s[i:j:k]\" are   | (1)                   |\n",
      "|                                | replaced by those of *t*         |                       |\n",
      "+--------------------------------+----------------------------------+-----------------------+\n",
      "| \"del s[i:j:k]\"                 | removes the elements of          |                       |\n",
      "|                                | \"s[i:j:k]\" from the list         |                       |\n",
      "+--------------------------------+----------------------------------+-----------------------+\n",
      "| \"s.append(x)\"                  | appends *x* to the end of the    |                       |\n",
      "|                                | sequence (same as                |                       |\n",
      "|                                | \"s[len(s):len(s)] = [x]\")        |                       |\n",
      "+--------------------------------+----------------------------------+-----------------------+\n",
      "| \"s.clear()\"                    | removes all items from *s* (same | (5)                   |\n",
      "|                                | as \"del s[:]\")                   |                       |\n",
      "+--------------------------------+----------------------------------+-----------------------+\n",
      "| \"s.copy()\"                     | creates a shallow copy of *s*    | (5)                   |\n",
      "|                                | (same as \"s[:]\")                 |                       |\n",
      "+--------------------------------+----------------------------------+-----------------------+\n",
      "| \"s.extend(t)\" or \"s += t\"      | extends *s* with the contents of |                       |\n",
      "|                                | *t* (for the most part the same  |                       |\n",
      "|                                | as \"s[len(s):len(s)] = t\")       |                       |\n",
      "+--------------------------------+----------------------------------+-----------------------+\n",
      "| \"s *= n\"                       | updates *s* with its contents    | (6)                   |\n",
      "|                                | repeated *n* times               |                       |\n",
      "+--------------------------------+----------------------------------+-----------------------+\n",
      "| \"s.insert(i, x)\"               | inserts *x* into *s* at the      |                       |\n",
      "|                                | index given by *i* (same as      |                       |\n",
      "|                                | \"s[i:i] = [x]\")                  |                       |\n",
      "+--------------------------------+----------------------------------+-----------------------+\n",
      "| \"s.pop()\" or \"s.pop(i)\"        | retrieves the item at *i* and    | (2)                   |\n",
      "|                                | also removes it from *s*         |                       |\n",
      "+--------------------------------+----------------------------------+-----------------------+\n",
      "| \"s.remove(x)\"                  | remove the first item from *s*   | (3)                   |\n",
      "|                                | where \"s[i]\" is equal to *x*     |                       |\n",
      "+--------------------------------+----------------------------------+-----------------------+\n",
      "| \"s.reverse()\"                  | reverses the items of *s* in     | (4)                   |\n",
      "|                                | place                            |                       |\n",
      "+--------------------------------+----------------------------------+-----------------------+\n",
      "\n",
      "Notes:\n",
      "\n",
      "1. *t* must have the same length as the slice it is replacing.\n",
      "\n",
      "2. The optional argument *i* defaults to \"-1\", so that by default the\n",
      "   last item is removed and returned.\n",
      "\n",
      "3. \"remove()\" raises \"ValueError\" when *x* is not found in *s*.\n",
      "\n",
      "4. The \"reverse()\" method modifies the sequence in place for economy\n",
      "   of space when reversing a large sequence.  To remind users that it\n",
      "   operates by side effect, it does not return the reversed sequence.\n",
      "\n",
      "5. \"clear()\" and \"copy()\" are included for consistency with the\n",
      "   interfaces of mutable containers that don’t support slicing\n",
      "   operations (such as \"dict\" and \"set\"). \"copy()\" is not part of the\n",
      "   \"collections.abc.MutableSequence\" ABC, but most concrete mutable\n",
      "   sequence classes provide it.\n",
      "\n",
      "   New in version 3.3: \"clear()\" and \"copy()\" methods.\n",
      "\n",
      "6. The value *n* is an integer, or an object implementing\n",
      "   \"__index__()\".  Zero and negative values of *n* clear the sequence.\n",
      "   Items in the sequence are not copied; they are referenced multiple\n",
      "   times, as explained for \"s * n\" under Common Sequence Operations.\n",
      "\n",
      "Related help topics: LISTLITERALS\n",
      "\n"
     ]
    },
    {
     "name": "stdout",
     "output_type": "stream",
     "text": [
      "help> exit\n",
      "No Python documentation found for 'exit'.\n",
      "Use help() to get the interactive help utility.\n",
      "Use help(str) for help on the str class.\n",
      "\n",
      "help> EXIT\n",
      "No Python documentation found for 'EXIT'.\n",
      "Use help() to get the interactive help utility.\n",
      "Use help(str) for help on the str class.\n",
      "\n"
     ]
    }
   ],
   "source": [
    "help()\n"
   ]
  },
  {
   "cell_type": "code",
   "execution_count": null,
   "metadata": {},
   "outputs": [],
   "source": []
  }
 ],
 "metadata": {
  "kernelspec": {
   "display_name": "Python 3 (ipykernel)",
   "language": "python",
   "name": "python3"
  },
  "language_info": {
   "codemirror_mode": {
    "name": "ipython",
    "version": 3
   },
   "file_extension": ".py",
   "mimetype": "text/x-python",
   "name": "python",
   "nbconvert_exporter": "python",
   "pygments_lexer": "ipython3",
   "version": "3.10.7"
  }
 },
 "nbformat": 4,
 "nbformat_minor": 1
}
