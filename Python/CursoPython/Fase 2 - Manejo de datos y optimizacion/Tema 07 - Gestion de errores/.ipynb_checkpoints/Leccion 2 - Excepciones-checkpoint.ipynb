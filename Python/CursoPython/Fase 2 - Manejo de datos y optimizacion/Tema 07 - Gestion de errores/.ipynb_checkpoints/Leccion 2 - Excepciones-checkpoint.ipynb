{
 "cells": [
  {
   "cell_type": "code",
   "execution_count": 4,
   "metadata": {},
   "outputs": [
    {
     "name": "stdout",
     "output_type": "stream",
     "text": [
      "Introduce un numero: hola\n"
     ]
    },
    {
     "ename": "ValueError",
     "evalue": "could not convert string to float: 'hola'",
     "output_type": "error",
     "traceback": [
      "\u001b[1;31m---------------------------------------------------------------------------\u001b[0m",
      "\u001b[1;31mValueError\u001b[0m                                Traceback (most recent call last)",
      "Cell \u001b[1;32mIn [4], line 1\u001b[0m\n\u001b[1;32m----> 1\u001b[0m n \u001b[38;5;241m=\u001b[39m \u001b[38;5;28;43mfloat\u001b[39;49m\u001b[43m(\u001b[49m\u001b[38;5;28;43minput\u001b[39;49m\u001b[43m(\u001b[49m\u001b[38;5;124;43m'\u001b[39;49m\u001b[38;5;124;43mIntroduce un numero: \u001b[39;49m\u001b[38;5;124;43m'\u001b[39;49m\u001b[43m)\u001b[49m\u001b[43m)\u001b[49m\n\u001b[0;32m      2\u001b[0m m \u001b[38;5;241m=\u001b[39m \u001b[38;5;241m4.0\u001b[39m\n\u001b[0;32m      3\u001b[0m \u001b[38;5;28mprint\u001b[39m(\u001b[38;5;124m'\u001b[39m\u001b[38;5;132;01m{}\u001b[39;00m\u001b[38;5;124m + \u001b[39m\u001b[38;5;132;01m{}\u001b[39;00m\u001b[38;5;124m = \u001b[39m\u001b[38;5;132;01m{}\u001b[39;00m\u001b[38;5;124m'\u001b[39m\u001b[38;5;241m.\u001b[39mformat(n, m, n\u001b[38;5;241m+\u001b[39mm))\n",
      "\u001b[1;31mValueError\u001b[0m: could not convert string to float: 'hola'"
     ]
    }
   ],
   "source": [
    "n = float(input('Introduce un numero: '))\n",
    "m = 4.0\n",
    "print('{} + {} = {}'.format(n, m, n+m))"
   ]
  },
  {
   "cell_type": "code",
   "execution_count": 7,
   "metadata": {},
   "outputs": [
    {
     "name": "stdout",
     "output_type": "stream",
     "text": [
      "Introduce un numero: fd\n",
      "Introduce un valor válido\n"
     ]
    }
   ],
   "source": [
    "try:\n",
    "    n = float(input('Introduce un numero: '))\n",
    "    m = 4.0\n",
    "    print('{} + {} = {}'.format(n, m, n+m))\n",
    "except:\n",
    "    print('Introduce un valor válido')\n"
   ]
  },
  {
   "cell_type": "code",
   "execution_count": 9,
   "metadata": {},
   "outputs": [
    {
     "name": "stdout",
     "output_type": "stream",
     "text": [
      "Introduce un numero: e\n",
      "Introduce un valor válido\n",
      "Introduce un numero: we\n",
      "Introduce un valor válido\n",
      "Introduce un numero: we\n",
      "Introduce un valor válido\n",
      "Introduce un numero: 23\n",
      "23.0 + 4.0 = 27.0\n"
     ]
    }
   ],
   "source": [
    "while(True):\n",
    "    try:\n",
    "        n = float(input('Introduce un numero: '))\n",
    "        m = 4.0\n",
    "        print('{} + {} = {}'.format(n, m, n+m))\n",
    "        break #Rompemos la iteracion\n",
    "    except:\n",
    "        print('Introduce un valor válido')\n",
    "    "
   ]
  },
  {
   "cell_type": "code",
   "execution_count": 11,
   "metadata": {},
   "outputs": [
    {
     "name": "stdout",
     "output_type": "stream",
     "text": [
      "Introduce un numero: 3\n",
      "3.0 + 4.0 = 7.0\n",
      "Todo ha funcionado correctamente\n"
     ]
    }
   ],
   "source": [
    "while(True):\n",
    "    try:\n",
    "        n = float(input('Introduce un numero: '))\n",
    "        m = 4.0\n",
    "        print('{} + {} = {}'.format(n, m, n+m))\n",
    "    except:\n",
    "        print('Introduce un valor válido')\n",
    "    else:\n",
    "        print('Todo ha funcionado correctamente')\n",
    "        break #Rompemos la iteracion\n"
   ]
  },
  {
   "cell_type": "code",
   "execution_count": 13,
   "metadata": {},
   "outputs": [
    {
     "name": "stdout",
     "output_type": "stream",
     "text": [
      "Introduce un numero: e\n",
      "Introduce un valor válido\n",
      "Fin de la iteracion\n",
      "Introduce un numero: 12\n",
      "12.0 + 4.0 = 16.0\n",
      "Todo ha funcionado correctamente\n",
      "Fin de la iteracion\n"
     ]
    }
   ],
   "source": [
    "while(True):\n",
    "    try:  # es lo que se ejecuta si el while es true\n",
    "        n = float(input('Introduce un numero: '))\n",
    "        m = 4.0\n",
    "        print('{} + {} = {}'.format(n, m, n+m))\n",
    "    except:  # es el codigo que se ejecuta si ocurre un error\n",
    "        print('Introduce un valor válido')\n",
    "    else: # se ejecuta si el codigo se ejeuta correctamente\n",
    "        print('Todo ha funcionado correctamente')\n",
    "        break #Rompemos la iteracion\n",
    "    finally: # se ejecuta tanto si hay como si no hay un error\n",
    "        print('Fin de la iteracion')"
   ]
  },
  {
   "cell_type": "code",
   "execution_count": null,
   "metadata": {},
   "outputs": [],
   "source": []
  }
 ],
 "metadata": {
  "kernelspec": {
   "display_name": "Python 3 (ipykernel)",
   "language": "python",
   "name": "python3"
  },
  "language_info": {
   "codemirror_mode": {
    "name": "ipython",
    "version": 3
   },
   "file_extension": ".py",
   "mimetype": "text/x-python",
   "name": "python",
   "nbconvert_exporter": "python",
   "pygments_lexer": "ipython3",
   "version": "3.10.7"
  }
 },
 "nbformat": 4,
 "nbformat_minor": 1
}
