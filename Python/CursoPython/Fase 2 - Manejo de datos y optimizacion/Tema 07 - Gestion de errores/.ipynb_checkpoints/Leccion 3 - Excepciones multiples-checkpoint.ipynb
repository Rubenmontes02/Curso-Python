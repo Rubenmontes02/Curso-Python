{
 "cells": [
  {
   "cell_type": "code",
   "execution_count": 9,
   "metadata": {},
   "outputs": [
    {
     "name": "stdout",
     "output_type": "stream",
     "text": [
      "Introduce un numero: 4\n",
      "6\n"
     ]
    }
   ],
   "source": [
    "try:\n",
    "    n = srt(input('Introduce un numero: '))\n",
    "    m = 2+n\n",
    "    print(m)\n",
    "except Exception as e:\n",
    "    print('Error')\n",
    "    print(type(e).__name__)"
   ]
  },
  {
   "cell_type": "code",
   "execution_count": null,
   "metadata": {},
   "outputs": [],
   "source": [
    "try:\n",
    "    n = int(input('Introduce un numero: '))\n",
    "    m = 2/n\n",
    "    print(m)\n",
    "except TypeError:\n",
    "    print('No se puede dividor un numero entre una cadena')\n",
    "except ValueError:\n",
    "    print('Debes introducir una cadena que sea un numero')\n",
    "except ZeroDivisionError:\n",
    "    print('No puedes dividor entre 0')\n",
    "except Exception as e:\n",
    "    print('Error')\n",
    "    print(type(e).__name__) # Sirve para mostrar el tipo de error que ha sucedido"
   ]
  },
  {
   "cell_type": "code",
   "execution_count": null,
   "metadata": {},
   "outputs": [],
   "source": []
  },
  {
   "cell_type": "code",
   "execution_count": null,
   "metadata": {},
   "outputs": [],
   "source": []
  },
  {
   "cell_type": "code",
   "execution_count": null,
   "metadata": {},
   "outputs": [],
   "source": []
  }
 ],
 "metadata": {
  "kernelspec": {
   "display_name": "Python 3 (ipykernel)",
   "language": "python",
   "name": "python3"
  },
  "language_info": {
   "codemirror_mode": {
    "name": "ipython",
    "version": 3
   },
   "file_extension": ".py",
   "mimetype": "text/x-python",
   "name": "python",
   "nbconvert_exporter": "python",
   "pygments_lexer": "ipython3",
   "version": "3.10.7"
  }
 },
 "nbformat": 4,
 "nbformat_minor": 1
}
