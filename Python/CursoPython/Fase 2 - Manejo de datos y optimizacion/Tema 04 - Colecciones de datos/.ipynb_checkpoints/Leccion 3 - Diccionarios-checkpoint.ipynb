{
 "cells": [
  {
   "cell_type": "code",
   "execution_count": 2,
   "metadata": {},
   "outputs": [
    {
     "data": {
      "text/plain": [
       "{}"
      ]
     },
     "execution_count": 2,
     "metadata": {},
     "output_type": "execute_result"
    }
   ],
   "source": [
    "vacio = {}\n",
    "vacio"
   ]
  },
  {
   "cell_type": "code",
   "execution_count": 3,
   "metadata": {},
   "outputs": [
    {
     "data": {
      "text/plain": [
       "dict"
      ]
     },
     "execution_count": 3,
     "metadata": {},
     "output_type": "execute_result"
    }
   ],
   "source": [
    "type(vacio)"
   ]
  },
  {
   "cell_type": "code",
   "execution_count": 4,
   "metadata": {},
   "outputs": [
    {
     "data": {
      "text/plain": [
       "{'amarillo': 'yellow', 'azul': 'blue', 'verde': 'green'}"
      ]
     },
     "execution_count": 4,
     "metadata": {},
     "output_type": "execute_result"
    }
   ],
   "source": [
    "colores = {'amarillo':'yellow', 'azul':'blue', 'verde':'green'}\n",
    "colores"
   ]
  },
  {
   "cell_type": "code",
   "execution_count": 8,
   "metadata": {},
   "outputs": [
    {
     "data": {
      "text/plain": [
       "'yellow'"
      ]
     },
     "execution_count": 8,
     "metadata": {},
     "output_type": "execute_result"
    }
   ],
   "source": [
    "colores['amarillo']\n"
   ]
  },
  {
   "cell_type": "code",
   "execution_count": 10,
   "metadata": {},
   "outputs": [
    {
     "data": {
      "text/plain": [
       "'blue'"
      ]
     },
     "execution_count": 10,
     "metadata": {},
     "output_type": "execute_result"
    }
   ],
   "source": [
    "colores['azul']"
   ]
  },
  {
   "cell_type": "code",
   "execution_count": 11,
   "metadata": {},
   "outputs": [],
   "source": [
    "colores['amarillo'] = 'white'"
   ]
  },
  {
   "cell_type": "code",
   "execution_count": 12,
   "metadata": {},
   "outputs": [
    {
     "data": {
      "text/plain": [
       "'white'"
      ]
     },
     "execution_count": 12,
     "metadata": {},
     "output_type": "execute_result"
    }
   ],
   "source": [
    "colores['amarillo']"
   ]
  },
  {
   "cell_type": "code",
   "execution_count": 13,
   "metadata": {},
   "outputs": [],
   "source": [
    "del(colores['amarillo'])"
   ]
  },
  {
   "cell_type": "code",
   "execution_count": 14,
   "metadata": {},
   "outputs": [
    {
     "data": {
      "text/plain": [
       "{'azul': 'blue', 'verde': 'green'}"
      ]
     },
     "execution_count": 14,
     "metadata": {},
     "output_type": "execute_result"
    }
   ],
   "source": [
    "colores"
   ]
  },
  {
   "cell_type": "code",
   "execution_count": 15,
   "metadata": {},
   "outputs": [],
   "source": [
    "edades = {'Ruben':20, 'Manolo':53, 'Araceli':48, 'Sergio':16, 'Chucky':2}"
   ]
  },
  {
   "cell_type": "code",
   "execution_count": 16,
   "metadata": {},
   "outputs": [
    {
     "data": {
      "text/plain": [
       "2"
      ]
     },
     "execution_count": 16,
     "metadata": {},
     "output_type": "execute_result"
    }
   ],
   "source": [
    "edades['Chucky']"
   ]
  },
  {
   "cell_type": "code",
   "execution_count": 17,
   "metadata": {},
   "outputs": [
    {
     "data": {
      "text/plain": [
       "20"
      ]
     },
     "execution_count": 17,
     "metadata": {},
     "output_type": "execute_result"
    }
   ],
   "source": [
    "edades['Ruben']"
   ]
  },
  {
   "cell_type": "code",
   "execution_count": 18,
   "metadata": {},
   "outputs": [
    {
     "name": "stdout",
     "output_type": "stream",
     "text": [
      "Ruben\n",
      "Manolo\n",
      "Araceli\n",
      "Sergio\n",
      "Chucky\n"
     ]
    }
   ],
   "source": [
    "for persona in edades:\n",
    "    print(persona)"
   ]
  },
  {
   "cell_type": "code",
   "execution_count": 19,
   "metadata": {},
   "outputs": [
    {
     "name": "stdout",
     "output_type": "stream",
     "text": [
      "20\n",
      "53\n",
      "48\n",
      "16\n",
      "2\n"
     ]
    }
   ],
   "source": [
    "for edad in edades:\n",
    "    print(edades[edad])"
   ]
  },
  {
   "cell_type": "code",
   "execution_count": 25,
   "metadata": {},
   "outputs": [
    {
     "name": "stdout",
     "output_type": "stream",
     "text": [
      "Ruben  tiene  20  años\n",
      "Manolo  tiene  53  años\n",
      "Araceli  tiene  48  años\n",
      "Sergio  tiene  16  años\n",
      "Chucky  tiene  2  años\n"
     ]
    }
   ],
   "source": [
    "for persona in edades:\n",
    "    print(persona, ' tiene ', edades[persona], ' años')"
   ]
  },
  {
   "cell_type": "code",
   "execution_count": 26,
   "metadata": {},
   "outputs": [
    {
     "name": "stdout",
     "output_type": "stream",
     "text": [
      "Ruben  tiene  20  años\n",
      "Manolo  tiene  53  años\n",
      "Araceli  tiene  48  años\n",
      "Sergio  tiene  16  años\n",
      "Chucky  tiene  2  años\n"
     ]
    }
   ],
   "source": [
    "for clave, valor in edades.items():\n",
    "    print(clave, ' tiene ', valor, ' años')"
   ]
  },
  {
   "cell_type": "code",
   "execution_count": 29,
   "metadata": {},
   "outputs": [
    {
     "data": {
      "text/plain": [
       "[]"
      ]
     },
     "execution_count": 29,
     "metadata": {},
     "output_type": "execute_result"
    }
   ],
   "source": [
    "personajes = []\n",
    "personajes"
   ]
  },
  {
   "cell_type": "code",
   "execution_count": 30,
   "metadata": {},
   "outputs": [],
   "source": [
    "p1 = {'Nombre':'Ruben', 'Edad':20}\n",
    "p2 = {'Nombre':'Jenna', 'Edad':20}\n"
   ]
  },
  {
   "cell_type": "code",
   "execution_count": 31,
   "metadata": {},
   "outputs": [],
   "source": [
    "personajes.append(p1)"
   ]
  },
  {
   "cell_type": "code",
   "execution_count": 33,
   "metadata": {},
   "outputs": [
    {
     "data": {
      "text/plain": [
       "[{'Nombre': 'Ruben', 'Edad': 20}]"
      ]
     },
     "execution_count": 33,
     "metadata": {},
     "output_type": "execute_result"
    }
   ],
   "source": [
    "personajes"
   ]
  },
  {
   "cell_type": "code",
   "execution_count": 34,
   "metadata": {},
   "outputs": [],
   "source": [
    "personajes.append(p2)"
   ]
  },
  {
   "cell_type": "code",
   "execution_count": 35,
   "metadata": {},
   "outputs": [
    {
     "data": {
      "text/plain": [
       "[{'Nombre': 'Ruben', 'Edad': 20}, {'Nombre': 'Jenna', 'Edad': 20}]"
      ]
     },
     "execution_count": 35,
     "metadata": {},
     "output_type": "execute_result"
    }
   ],
   "source": [
    "personajes"
   ]
  },
  {
   "cell_type": "code",
   "execution_count": 39,
   "metadata": {},
   "outputs": [
    {
     "name": "stdout",
     "output_type": "stream",
     "text": [
      "Jenna  tiene  20  años\n",
      "Jenna  tiene  20  años\n"
     ]
    }
   ],
   "source": [
    "for personaje in personajes:\n",
    "    print(p2['Nombre'], ' tiene ', p2['Edad'], ' años')"
   ]
  },
  {
   "cell_type": "code",
   "execution_count": 1,
   "metadata": {},
   "outputs": [
    {
     "name": "stdout",
     "output_type": "stream",
     "text": [
      "\n",
      "====== MENÚ ======\n",
      "1. Añadir persona\n",
      "2. Ver lista de personas\n",
      "3. Salir\n",
      "\n",
      "Que opción desea?:   1\n",
      "\n",
      "Introduce el nombre de la persona:     Ruben\n",
      "Introduce la edad de la persona:    20\n",
      "\n",
      "====== MENÚ ======\n",
      "1. Añadir persona\n",
      "2. Ver lista de personas\n",
      "3. Salir\n",
      "\n",
      "Que opción desea?:   1\n",
      "\n",
      "Introduce el nombre de la persona:     Jenna\n",
      "Introduce la edad de la persona:    20\n",
      "\n",
      "====== MENÚ ======\n",
      "1. Añadir persona\n",
      "2. Ver lista de personas\n",
      "3. Salir\n",
      "\n",
      "Que opción desea?:   2\n",
      "\n",
      "Ruben  tiene  20  años\n",
      "Jenna  tiene  20  años\n",
      "\n",
      "====== MENÚ ======\n",
      "1. Añadir persona\n",
      "2. Ver lista de personas\n",
      "3. Salir\n",
      "\n",
      "Que opción desea?:   4\n",
      "\n",
      "Elije una opción correcta \n",
      "\n",
      "\n",
      "====== MENÚ ======\n",
      "1. Añadir persona\n",
      "2. Ver lista de personas\n",
      "3. Salir\n",
      "\n",
      "Que opción desea?:   3\n",
      "\n",
      "Elije una opción correcta \n",
      "\n",
      "Saliendo...\n"
     ]
    }
   ],
   "source": [
    "# Ejercicio mio\n",
    "\n",
    "personas = []\n",
    "opcion = 0\n",
    "\n",
    "while opcion != 3:\n",
    "\n",
    "  print()\n",
    "  \n",
    "  print(\"====== MENÚ ======\")\n",
    "  print(\"1. Añadir persona\")\n",
    "  print(\"2. Ver lista de personas\")\n",
    "  print(\"3. Salir\")\n",
    "  print()\n",
    "\n",
    "  opcion = int(input(\"Que opción desea?:   \"))\n",
    "  print()\n",
    "  \n",
    "\n",
    "  if opcion == 1:\n",
    "    p = {\"Id\":0,\"Nombre\":\"\", \"Edad\":00}\n",
    "\n",
    "    name = input(\"Introduce el nombre de la persona:     \")\n",
    "    age = input(\"Introduce la edad de la persona:    \")\n",
    "    p[\"Id\"] = id\n",
    "    p[\"Nombre\"] = name\n",
    "    p[\"Edad\"] = age\n",
    "    personas.append(p)\n",
    "\n",
    "  elif opcion == 2:\n",
    "    for persona in personas:\n",
    "      print(persona[\"Nombre\"], \" tiene \", persona[\"Edad\"], \" años\")\n",
    "  \n",
    "  else:\n",
    "    print(\"Elije una opción correcta \")\n",
    "    print()\n",
    "    \n",
    "    \n",
    "\n",
    "else:\n",
    "  print(\"Saliendo...\")\n",
    "  \n",
    "    \n",
    "    "
   ]
  },
  {
   "cell_type": "code",
   "execution_count": null,
   "metadata": {},
   "outputs": [],
   "source": []
  }
 ],
 "metadata": {
  "kernelspec": {
   "display_name": "Python 3 (ipykernel)",
   "language": "python",
   "name": "python3"
  },
  "language_info": {
   "codemirror_mode": {
    "name": "ipython",
    "version": 3
   },
   "file_extension": ".py",
   "mimetype": "text/x-python",
   "name": "python",
   "nbconvert_exporter": "python",
   "pygments_lexer": "ipython3",
   "version": "3.10.7"
  }
 },
 "nbformat": 4,
 "nbformat_minor": 1
}
